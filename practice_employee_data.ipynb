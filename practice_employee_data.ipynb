{
 "cells": [
  {
   "cell_type": "markdown",
   "metadata": {},
   "source": [
    "# Ficticious Employee Dataset "
   ]
  },
  {
   "cell_type": "code",
   "execution_count": 1,
   "metadata": {},
   "outputs": [],
   "source": [
    "# Import and Load necessary Libraries\n",
    "\n",
    "import matplotlib.pyplot as plt\n",
    "import pandas as pd\n",
    "%matplotlib inline\n"
   ]
  },
  {
   "cell_type": "markdown",
   "metadata": {},
   "source": [
    "### Create the inputs to be used"
   ]
  },
  {
   "cell_type": "code",
   "execution_count": 2,
   "metadata": {},
   "outputs": [],
   "source": [
    "id_number = ['123', '274', '675', '908', '874', '435', '3976', '111', '873', '097', '435', '999', '012', '87443', '567', \\\n",
    "            '888', '64329']\n",
    "fname = ['patrick', 'amanda', 'edward', 'john', 'lekan', 'nneka', 'uche', 'promise', \\\n",
    "         'chuka','chisom', 'booboo', 'kiki', 'chikaodi', 'linda', 'oluchi', 'lopez', 'conrad']\n",
    "lname = ['eze', 'ify', 'onoro', 'wick', 'scanty', 'elizabeth', 'williams', 'ejimi', \\\n",
    "         'segun','benny', 'rica', 'omeili', 'steve', 'ejiofor', 'amadi', 'benjamin', 'lilo']\n",
    "division = ['sales', 'IT', 'marketing', 'administration', 'sales', 'administration','marketing', 'IT', \\\n",
    "            'sales', 'engineering','IT', 'engineering', 'IT', 'sales', 'marketing', 'IT', 'administration']\n",
    "salary = [21665, 45786, 78654, 18904, 65439, 12480, 97450, 15000, 52100, 87000, 78000, \\\n",
    "          45632, 26960, 32100, 74980, 3000, 18000]\n",
    "phone_number = ['7366578', '7366435', '7366765', '7366098', '7366004', '7366511', \\\n",
    "                '7366375', '7366798', '7366012', '7366099', '7366599', '7366217', \\\n",
    "                '7366001','7366086', '7366542', '7366222', '7366989']\n",
    "contract_type = ['permanent', 'permanent', 'temporary', 'internship', 'temporary', \\\n",
    "                 'permanent', 'permanent', 'temporary', 'permanent', 'permanent', 'temporary', \\\n",
    "                 'temporary', 'permanent', 'permanent', 'internship', 'temporary', 'internship']\n",
    "\n",
    "# print(len(id_number))\n",
    "# print(len(fname))\n",
    "# print(len(lname))\n",
    "# print(len(division))\n",
    "# print(len(salary))\n",
    "# print(len(phone_number))\n",
    "# print(len(contract_type))"
   ]
  },
  {
   "cell_type": "code",
   "execution_count": 3,
   "metadata": {},
   "outputs": [
    {
     "data": {
      "text/html": [
       "<div>\n",
       "<style scoped>\n",
       "    .dataframe tbody tr th:only-of-type {\n",
       "        vertical-align: middle;\n",
       "    }\n",
       "\n",
       "    .dataframe tbody tr th {\n",
       "        vertical-align: top;\n",
       "    }\n",
       "\n",
       "    .dataframe thead th {\n",
       "        text-align: right;\n",
       "    }\n",
       "</style>\n",
       "<table border=\"1\" class=\"dataframe\">\n",
       "  <thead>\n",
       "    <tr style=\"text-align: right;\">\n",
       "      <th></th>\n",
       "      <th>fname</th>\n",
       "      <th>lname</th>\n",
       "      <th>division</th>\n",
       "      <th>salary</th>\n",
       "      <th>phone_number</th>\n",
       "      <th>contract_type</th>\n",
       "    </tr>\n",
       "  </thead>\n",
       "  <tbody>\n",
       "    <tr>\n",
       "      <td>675</td>\n",
       "      <td>edward</td>\n",
       "      <td>onoro</td>\n",
       "      <td>marketing</td>\n",
       "      <td>78654</td>\n",
       "      <td>7366765</td>\n",
       "      <td>temporary</td>\n",
       "    </tr>\n",
       "    <tr>\n",
       "      <td>888</td>\n",
       "      <td>lopez</td>\n",
       "      <td>benjamin</td>\n",
       "      <td>IT</td>\n",
       "      <td>3000</td>\n",
       "      <td>7366222</td>\n",
       "      <td>temporary</td>\n",
       "    </tr>\n",
       "    <tr>\n",
       "      <td>123</td>\n",
       "      <td>patrick</td>\n",
       "      <td>eze</td>\n",
       "      <td>sales</td>\n",
       "      <td>21665</td>\n",
       "      <td>7366578</td>\n",
       "      <td>permanent</td>\n",
       "    </tr>\n",
       "    <tr>\n",
       "      <td>567</td>\n",
       "      <td>oluchi</td>\n",
       "      <td>amadi</td>\n",
       "      <td>marketing</td>\n",
       "      <td>74980</td>\n",
       "      <td>7366542</td>\n",
       "      <td>internship</td>\n",
       "    </tr>\n",
       "    <tr>\n",
       "      <td>435</td>\n",
       "      <td>nneka</td>\n",
       "      <td>elizabeth</td>\n",
       "      <td>administration</td>\n",
       "      <td>12480</td>\n",
       "      <td>7366511</td>\n",
       "      <td>permanent</td>\n",
       "    </tr>\n",
       "    <tr>\n",
       "      <td>435</td>\n",
       "      <td>booboo</td>\n",
       "      <td>rica</td>\n",
       "      <td>IT</td>\n",
       "      <td>78000</td>\n",
       "      <td>7366599</td>\n",
       "      <td>temporary</td>\n",
       "    </tr>\n",
       "    <tr>\n",
       "      <td>999</td>\n",
       "      <td>kiki</td>\n",
       "      <td>omeili</td>\n",
       "      <td>engineering</td>\n",
       "      <td>45632</td>\n",
       "      <td>7366217</td>\n",
       "      <td>temporary</td>\n",
       "    </tr>\n",
       "  </tbody>\n",
       "</table>\n",
       "</div>"
      ],
      "text/plain": [
       "       fname      lname        division  salary phone_number contract_type\n",
       "675   edward      onoro       marketing   78654      7366765     temporary\n",
       "888    lopez   benjamin              IT    3000      7366222     temporary\n",
       "123  patrick        eze           sales   21665      7366578     permanent\n",
       "567   oluchi      amadi       marketing   74980      7366542    internship\n",
       "435    nneka  elizabeth  administration   12480      7366511     permanent\n",
       "435   booboo       rica              IT   78000      7366599     temporary\n",
       "999     kiki     omeili     engineering   45632      7366217     temporary"
      ]
     },
     "execution_count": 3,
     "metadata": {},
     "output_type": "execute_result"
    }
   ],
   "source": [
    "employees = pd.DataFrame({'fname': fname, 'lname': lname, 'division': division, \\\n",
    "                          'salary': salary, 'phone_number': phone_number, 'contract_type': contract_type}, index= id_number)\n",
    "\n",
    "employees.sample(7)"
   ]
  },
  {
   "cell_type": "code",
   "execution_count": 4,
   "metadata": {},
   "outputs": [
    {
     "name": "stdout",
     "output_type": "stream",
     "text": [
      "We have a total number of 17 entries in the data\n"
     ]
    }
   ],
   "source": [
    "print('We have a total number of ' + str(len(employees)) + ' entries in the data')"
   ]
  },
  {
   "cell_type": "code",
   "execution_count": 5,
   "metadata": {},
   "outputs": [
    {
     "name": "stdout",
     "output_type": "stream",
     "text": [
      "There are a total of 5 Divisions\n"
     ]
    }
   ],
   "source": [
    "print('There are a total of ' + str(employees['division'].nunique()) + ' Divisions')"
   ]
  },
  {
   "cell_type": "code",
   "execution_count": 6,
   "metadata": {},
   "outputs": [
    {
     "name": "stdout",
     "output_type": "stream",
     "text": [
      "There are 3 different contract types assigned to the employees\n"
     ]
    }
   ],
   "source": [
    "print('There are ' + str(employees['contract_type'].nunique()) + ' different contract types assigned to the employees')"
   ]
  },
  {
   "cell_type": "code",
   "execution_count": null,
   "metadata": {},
   "outputs": [],
   "source": []
  },
  {
   "cell_type": "markdown",
   "metadata": {},
   "source": [
    "## Let's answer some questions with the data.\n",
    "> **1.What department has the most staff?** \n",
    "\n",
    "> **2. Which employee is the highest paid?**\n",
    "\n",
    "> **3. How many people are on internship?**\n",
    "\n",
    "> **4. How many people earn below 30k that are either permanent or temporary staff?**\n",
    "\n",
    "> **5. Find out the highest and lowest paid in each division.**"
   ]
  },
  {
   "cell_type": "markdown",
   "metadata": {},
   "source": [
    "### 1. What department has the most number of staff?"
   ]
  },
  {
   "cell_type": "code",
   "execution_count": 7,
   "metadata": {},
   "outputs": [
    {
     "data": {
      "text/plain": [
       "IT                5\n",
       "sales             4\n",
       "administration    3\n",
       "marketing         3\n",
       "engineering       2\n",
       "Name: division, dtype: int64"
      ]
     },
     "execution_count": 7,
     "metadata": {},
     "output_type": "execute_result"
    }
   ],
   "source": [
    "highest_num_by_dept = employees['division'].value_counts()\n",
    "highest_num_by_dept"
   ]
  },
  {
   "cell_type": "code",
   "execution_count": 8,
   "metadata": {},
   "outputs": [
    {
     "data": {
      "image/png": "[encoded data removed]",
      "text/plain": [
       "<Figure size 720x432 with 1 Axes>"
      ]
     },
     "metadata": {
      "needs_background": "light"
     },
     "output_type": "display_data"
    }
   ],
   "source": [
    "highest_num_by_dept.plot(kind='bar', figsize=(10,6), title='Number of Employees by Division', \\\n",
    "                         grid=bool, rot=0, fontsize=11);"
   ]
  },
  {
   "cell_type": "markdown",
   "metadata": {},
   "source": [
    "### 2. Which employee is the highest paid?"
   ]
  },
  {
   "cell_type": "code",
   "execution_count": 9,
   "metadata": {},
   "outputs": [
    {
     "name": "stdout",
     "output_type": "stream",
     "text": [
      "The highest paid salary is 97450\n"
     ]
    }
   ],
   "source": [
    "highest_paid = employees['salary'].max()\n",
    "highest_paid\n",
    "print('The highest paid salary is', highest_paid)"
   ]
  },
  {
   "cell_type": "code",
   "execution_count": 10,
   "metadata": {},
   "outputs": [
    {
     "data": {
      "text/html": [
       "<div>\n",
       "<style scoped>\n",
       "    .dataframe tbody tr th:only-of-type {\n",
       "        vertical-align: middle;\n",
       "    }\n",
       "\n",
       "    .dataframe tbody tr th {\n",
       "        vertical-align: top;\n",
       "    }\n",
       "\n",
       "    .dataframe thead th {\n",
       "        text-align: right;\n",
       "    }\n",
       "</style>\n",
       "<table border=\"1\" class=\"dataframe\">\n",
       "  <thead>\n",
       "    <tr style=\"text-align: right;\">\n",
       "      <th></th>\n",
       "      <th>fname</th>\n",
       "      <th>lname</th>\n",
       "      <th>division</th>\n",
       "      <th>salary</th>\n",
       "      <th>phone_number</th>\n",
       "      <th>contract_type</th>\n",
       "    </tr>\n",
       "  </thead>\n",
       "  <tbody>\n",
       "    <tr>\n",
       "      <td>3976</td>\n",
       "      <td>uche</td>\n",
       "      <td>williams</td>\n",
       "      <td>marketing</td>\n",
       "      <td>97450</td>\n",
       "      <td>7366375</td>\n",
       "      <td>permanent</td>\n",
       "    </tr>\n",
       "  </tbody>\n",
       "</table>\n",
       "</div>"
      ],
      "text/plain": [
       "     fname     lname   division  salary phone_number contract_type\n",
       "3976  uche  williams  marketing   97450      7366375     permanent"
      ]
     },
     "execution_count": 10,
     "metadata": {},
     "output_type": "execute_result"
    }
   ],
   "source": [
    "employees[employees['salary'] == 97450]"
   ]
  },
  {
   "cell_type": "code",
   "execution_count": 11,
   "metadata": {},
   "outputs": [
    {
     "name": "stdout",
     "output_type": "stream",
     "text": [
      "The highest paid employee has a Permanent Contract and is in the Marketing Division earning 97450\n"
     ]
    }
   ],
   "source": [
    "print('The highest paid employee has a Permanent Contract and is in the Marketing Division earning',highest_paid)"
   ]
  },
  {
   "cell_type": "markdown",
   "metadata": {},
   "source": [
    "## Below is a shorter and better way to do it, but you decide which you prefer."
   ]
  },
  {
   "cell_type": "code",
   "execution_count": 12,
   "metadata": {},
   "outputs": [
    {
     "data": {
      "text/html": [
       "<div>\n",
       "<style scoped>\n",
       "    .dataframe tbody tr th:only-of-type {\n",
       "        vertical-align: middle;\n",
       "    }\n",
       "\n",
       "    .dataframe tbody tr th {\n",
       "        vertical-align: top;\n",
       "    }\n",
       "\n",
       "    .dataframe thead th {\n",
       "        text-align: right;\n",
       "    }\n",
       "</style>\n",
       "<table border=\"1\" class=\"dataframe\">\n",
       "  <thead>\n",
       "    <tr style=\"text-align: right;\">\n",
       "      <th></th>\n",
       "      <th>fname</th>\n",
       "      <th>lname</th>\n",
       "      <th>division</th>\n",
       "      <th>salary</th>\n",
       "      <th>phone_number</th>\n",
       "      <th>contract_type</th>\n",
       "    </tr>\n",
       "  </thead>\n",
       "  <tbody>\n",
       "    <tr>\n",
       "      <td>3976</td>\n",
       "      <td>uche</td>\n",
       "      <td>williams</td>\n",
       "      <td>marketing</td>\n",
       "      <td>97450</td>\n",
       "      <td>7366375</td>\n",
       "      <td>permanent</td>\n",
       "    </tr>\n",
       "  </tbody>\n",
       "</table>\n",
       "</div>"
      ],
      "text/plain": [
       "     fname     lname   division  salary phone_number contract_type\n",
       "3976  uche  williams  marketing   97450      7366375     permanent"
      ]
     },
     "execution_count": 12,
     "metadata": {},
     "output_type": "execute_result"
    }
   ],
   "source": [
    "employees[employees['salary'] == employees['salary'].max()]"
   ]
  },
  {
   "cell_type": "code",
   "execution_count": null,
   "metadata": {},
   "outputs": [],
   "source": []
  },
  {
   "cell_type": "markdown",
   "metadata": {},
   "source": [
    "### 3. How many people are on internship?"
   ]
  },
  {
   "cell_type": "code",
   "execution_count": 13,
   "metadata": {},
   "outputs": [
    {
     "data": {
      "text/html": [
       "<div>\n",
       "<style scoped>\n",
       "    .dataframe tbody tr th:only-of-type {\n",
       "        vertical-align: middle;\n",
       "    }\n",
       "\n",
       "    .dataframe tbody tr th {\n",
       "        vertical-align: top;\n",
       "    }\n",
       "\n",
       "    .dataframe thead th {\n",
       "        text-align: right;\n",
       "    }\n",
       "</style>\n",
       "<table border=\"1\" class=\"dataframe\">\n",
       "  <thead>\n",
       "    <tr style=\"text-align: right;\">\n",
       "      <th></th>\n",
       "      <th>fname</th>\n",
       "      <th>lname</th>\n",
       "      <th>division</th>\n",
       "      <th>salary</th>\n",
       "      <th>phone_number</th>\n",
       "      <th>contract_type</th>\n",
       "    </tr>\n",
       "  </thead>\n",
       "  <tbody>\n",
       "    <tr>\n",
       "      <td>908</td>\n",
       "      <td>john</td>\n",
       "      <td>wick</td>\n",
       "      <td>administration</td>\n",
       "      <td>18904</td>\n",
       "      <td>7366098</td>\n",
       "      <td>internship</td>\n",
       "    </tr>\n",
       "    <tr>\n",
       "      <td>567</td>\n",
       "      <td>oluchi</td>\n",
       "      <td>amadi</td>\n",
       "      <td>marketing</td>\n",
       "      <td>74980</td>\n",
       "      <td>7366542</td>\n",
       "      <td>internship</td>\n",
       "    </tr>\n",
       "    <tr>\n",
       "      <td>64329</td>\n",
       "      <td>conrad</td>\n",
       "      <td>lilo</td>\n",
       "      <td>administration</td>\n",
       "      <td>18000</td>\n",
       "      <td>7366989</td>\n",
       "      <td>internship</td>\n",
       "    </tr>\n",
       "  </tbody>\n",
       "</table>\n",
       "</div>"
      ],
      "text/plain": [
       "        fname  lname        division  salary phone_number contract_type\n",
       "908      john   wick  administration   18904      7366098    internship\n",
       "567    oluchi  amadi       marketing   74980      7366542    internship\n",
       "64329  conrad   lilo  administration   18000      7366989    internship"
      ]
     },
     "execution_count": 13,
     "metadata": {},
     "output_type": "execute_result"
    }
   ],
   "source": [
    "interns = employees[employees['contract_type'] =='internship']\n",
    "interns"
   ]
  },
  {
   "cell_type": "code",
   "execution_count": 14,
   "metadata": {},
   "outputs": [
    {
     "name": "stdout",
     "output_type": "stream",
     "text": [
      "There are a total of 3 interns.\n"
     ]
    }
   ],
   "source": [
    "print('There are a total of ' + str(len(interns)) + ' interns.')"
   ]
  },
  {
   "cell_type": "code",
   "execution_count": null,
   "metadata": {},
   "outputs": [],
   "source": []
  },
  {
   "cell_type": "code",
   "execution_count": null,
   "metadata": {},
   "outputs": [],
   "source": []
  },
  {
   "cell_type": "markdown",
   "metadata": {},
   "source": [
    "### 4. How many people earn below 30k that are either temporary or permanent staff?"
   ]
  },
  {
   "cell_type": "code",
   "execution_count": 15,
   "metadata": {},
   "outputs": [
    {
     "data": {
      "text/html": [
       "<div>\n",
       "<style scoped>\n",
       "    .dataframe tbody tr th:only-of-type {\n",
       "        vertical-align: middle;\n",
       "    }\n",
       "\n",
       "    .dataframe tbody tr th {\n",
       "        vertical-align: top;\n",
       "    }\n",
       "\n",
       "    .dataframe thead th {\n",
       "        text-align: right;\n",
       "    }\n",
       "</style>\n",
       "<table border=\"1\" class=\"dataframe\">\n",
       "  <thead>\n",
       "    <tr style=\"text-align: right;\">\n",
       "      <th></th>\n",
       "      <th>fname</th>\n",
       "      <th>lname</th>\n",
       "      <th>division</th>\n",
       "      <th>salary</th>\n",
       "      <th>phone_number</th>\n",
       "      <th>contract_type</th>\n",
       "    </tr>\n",
       "  </thead>\n",
       "  <tbody>\n",
       "    <tr>\n",
       "      <td>123</td>\n",
       "      <td>patrick</td>\n",
       "      <td>eze</td>\n",
       "      <td>sales</td>\n",
       "      <td>21665</td>\n",
       "      <td>7366578</td>\n",
       "      <td>permanent</td>\n",
       "    </tr>\n",
       "    <tr>\n",
       "      <td>435</td>\n",
       "      <td>nneka</td>\n",
       "      <td>elizabeth</td>\n",
       "      <td>administration</td>\n",
       "      <td>12480</td>\n",
       "      <td>7366511</td>\n",
       "      <td>permanent</td>\n",
       "    </tr>\n",
       "    <tr>\n",
       "      <td>111</td>\n",
       "      <td>promise</td>\n",
       "      <td>ejimi</td>\n",
       "      <td>IT</td>\n",
       "      <td>15000</td>\n",
       "      <td>7366798</td>\n",
       "      <td>temporary</td>\n",
       "    </tr>\n",
       "    <tr>\n",
       "      <td>012</td>\n",
       "      <td>chikaodi</td>\n",
       "      <td>steve</td>\n",
       "      <td>IT</td>\n",
       "      <td>26960</td>\n",
       "      <td>7366001</td>\n",
       "      <td>permanent</td>\n",
       "    </tr>\n",
       "    <tr>\n",
       "      <td>888</td>\n",
       "      <td>lopez</td>\n",
       "      <td>benjamin</td>\n",
       "      <td>IT</td>\n",
       "      <td>3000</td>\n",
       "      <td>7366222</td>\n",
       "      <td>temporary</td>\n",
       "    </tr>\n",
       "  </tbody>\n",
       "</table>\n",
       "</div>"
      ],
      "text/plain": [
       "        fname      lname        division  salary phone_number contract_type\n",
       "123   patrick        eze           sales   21665      7366578     permanent\n",
       "435     nneka  elizabeth  administration   12480      7366511     permanent\n",
       "111   promise      ejimi              IT   15000      7366798     temporary\n",
       "012  chikaodi      steve              IT   26960      7366001     permanent\n",
       "888     lopez   benjamin              IT    3000      7366222     temporary"
      ]
     },
     "execution_count": 15,
     "metadata": {},
     "output_type": "execute_result"
    }
   ],
   "source": [
    "temp_perm = ['temporary', 'permanent']\n",
    "below_thirty = employees[(employees['salary'] < 30000) & (employees['contract_type'].isin(temp_perm))]\n",
    "below_thirty"
   ]
  },
  {
   "cell_type": "code",
   "execution_count": 16,
   "metadata": {},
   "outputs": [
    {
     "data": {
      "image/png": "[encoded data removed]",
      "text/plain": [
       "<Figure size 720x432 with 1 Axes>"
      ]
     },
     "metadata": {
      "needs_background": "light"
     },
     "output_type": "display_data"
    }
   ],
   "source": [
    "below_thirty.plot(x = 'fname', y = 'salary', kind='bar', grid=bool, figsize=(10,6), \\\n",
    "                  title='Temporary and Permanent Employees earning lower than 30k', \\\n",
    "                  rot=0, fontsize=11);"
   ]
  },
  {
   "cell_type": "code",
   "execution_count": null,
   "metadata": {},
   "outputs": [],
   "source": []
  },
  {
   "cell_type": "code",
   "execution_count": null,
   "metadata": {},
   "outputs": [],
   "source": []
  },
  {
   "cell_type": "markdown",
   "metadata": {},
   "source": [
    "### 5. Find out the lowest and highest paid in each division."
   ]
  },
  {
   "cell_type": "markdown",
   "metadata": {},
   "source": [
    "### a.)  Lowest and Highest in IT"
   ]
  },
  {
   "cell_type": "code",
   "execution_count": 17,
   "metadata": {},
   "outputs": [
    {
     "data": {
      "text/plain": [
       "fname               amanda\n",
       "lname             benjamin\n",
       "division                IT\n",
       "salary                3000\n",
       "phone_number       7366001\n",
       "contract_type    permanent\n",
       "dtype: object"
      ]
     },
     "execution_count": 17,
     "metadata": {},
     "output_type": "execute_result"
    }
   ],
   "source": [
    "all_divisions = employees.groupby('division')\n",
    "lowest_IT = all_divisions.get_group('IT').min()\n",
    "lowest_IT"
   ]
  },
  {
   "cell_type": "code",
   "execution_count": 18,
   "metadata": {},
   "outputs": [
    {
     "data": {
      "text/plain": [
       "fname              promise\n",
       "lname                steve\n",
       "division                IT\n",
       "salary               78000\n",
       "phone_number       7366798\n",
       "contract_type    temporary\n",
       "dtype: object"
      ]
     },
     "execution_count": 18,
     "metadata": {},
     "output_type": "execute_result"
    }
   ],
   "source": [
    "highest_IT = all_divisions.get_group('IT').max()\n",
    "highest_IT"
   ]
  },
  {
   "cell_type": "code",
   "execution_count": 19,
   "metadata": {},
   "outputs": [
    {
     "name": "stdout",
     "output_type": "stream",
     "text": [
      "We can see that, the lowest in IT is Amanda Benjamin, she earns 3000\n",
      "We can see that, the highest in IT is Promise Steve, she earns 78000\n"
     ]
    }
   ],
   "source": [
    "print('We can see that, the lowest in IT is Amanda Benjamin, she earns ' + str(lowest_IT[3]))\n",
    "print('We can see that, the highest in IT is Promise Steve, she earns ' + str(highest_IT[3]))"
   ]
  },
  {
   "cell_type": "code",
   "execution_count": null,
   "metadata": {},
   "outputs": [],
   "source": []
  },
  {
   "cell_type": "markdown",
   "metadata": {},
   "source": [
    "### b.) Lowest and Highest in sales"
   ]
  },
  {
   "cell_type": "code",
   "execution_count": 20,
   "metadata": {},
   "outputs": [
    {
     "data": {
      "text/plain": [
       "fname                chuka\n",
       "lname              ejiofor\n",
       "division             sales\n",
       "salary               21665\n",
       "phone_number       7366004\n",
       "contract_type    permanent\n",
       "dtype: object"
      ]
     },
     "execution_count": 20,
     "metadata": {},
     "output_type": "execute_result"
    }
   ],
   "source": [
    "lowest_sales = all_divisions.get_group('sales').min()\n",
    "lowest_sales"
   ]
  },
  {
   "cell_type": "code",
   "execution_count": 21,
   "metadata": {},
   "outputs": [
    {
     "data": {
      "text/plain": [
       "fname              patrick\n",
       "lname                segun\n",
       "division             sales\n",
       "salary               65439\n",
       "phone_number       7366578\n",
       "contract_type    temporary\n",
       "dtype: object"
      ]
     },
     "execution_count": 21,
     "metadata": {},
     "output_type": "execute_result"
    }
   ],
   "source": [
    "highest_sales = all_divisions.get_group('sales').max()\n",
    "highest_sales"
   ]
  },
  {
   "cell_type": "code",
   "execution_count": 22,
   "metadata": {},
   "outputs": [
    {
     "name": "stdout",
     "output_type": "stream",
     "text": [
      "We can see that, the lowest in Sales Division is, Chuka Ejiofor. He earns 21665\n",
      "We can see that, the highest in Sales Division is, Patrick Segun. He earns 65439\n"
     ]
    }
   ],
   "source": [
    "print('We can see that, the lowest in Sales Division is, Chuka Ejiofor. He earns ' + str(lowest_sales[3]))\n",
    "print('We can see that, the highest in Sales Division is, Patrick Segun. He earns ' + str(highest_sales[3]))"
   ]
  },
  {
   "cell_type": "code",
   "execution_count": null,
   "metadata": {},
   "outputs": [],
   "source": []
  },
  {
   "cell_type": "markdown",
   "metadata": {},
   "source": [
    "### c.)  Lowest and Highest in Marketing"
   ]
  },
  {
   "cell_type": "code",
   "execution_count": 23,
   "metadata": {},
   "outputs": [
    {
     "data": {
      "text/plain": [
       "fname                edward\n",
       "lname                 amadi\n",
       "division          marketing\n",
       "salary                74980\n",
       "phone_number        7366375\n",
       "contract_type    internship\n",
       "dtype: object"
      ]
     },
     "execution_count": 23,
     "metadata": {},
     "output_type": "execute_result"
    }
   ],
   "source": [
    "lowest_marketing = all_divisions.get_group('marketing').min()\n",
    "lowest_marketing"
   ]
  },
  {
   "cell_type": "code",
   "execution_count": 24,
   "metadata": {},
   "outputs": [
    {
     "data": {
      "text/plain": [
       "fname                 uche\n",
       "lname             williams\n",
       "division         marketing\n",
       "salary               97450\n",
       "phone_number       7366765\n",
       "contract_type    temporary\n",
       "dtype: object"
      ]
     },
     "execution_count": 24,
     "metadata": {},
     "output_type": "execute_result"
    }
   ],
   "source": [
    "highest_marketing = all_divisions.get_group('marketing').max()\n",
    "highest_marketing"
   ]
  },
  {
   "cell_type": "code",
   "execution_count": 25,
   "metadata": {},
   "outputs": [
    {
     "name": "stdout",
     "output_type": "stream",
     "text": [
      "We can see that, the lowest in Marketing Division is, Edward Amadi. He earns 74980\n",
      "We can see that, the highest in Sales Division is, Uche Williams. He earns 97450\n"
     ]
    }
   ],
   "source": [
    "print('We can see that, the lowest in Marketing Division is, Edward Amadi. He earns ' + str(lowest_marketing[3]))\n",
    "print('We can see that, the highest in Sales Division is, Uche Williams. He earns ' + str(highest_marketing[3]))"
   ]
  },
  {
   "cell_type": "code",
   "execution_count": null,
   "metadata": {},
   "outputs": [],
   "source": []
  },
  {
   "cell_type": "markdown",
   "metadata": {},
   "source": [
    "### d.) Lowest and Highest in Administration"
   ]
  },
  {
   "cell_type": "code",
   "execution_count": 26,
   "metadata": {},
   "outputs": [
    {
     "data": {
      "text/plain": [
       "fname                    conrad\n",
       "lname                 elizabeth\n",
       "division         administration\n",
       "salary                    12480\n",
       "phone_number            7366098\n",
       "contract_type        internship\n",
       "dtype: object"
      ]
     },
     "execution_count": 26,
     "metadata": {},
     "output_type": "execute_result"
    }
   ],
   "source": [
    "lowest_administration = all_divisions.get_group('administration').min()\n",
    "lowest_administration"
   ]
  },
  {
   "cell_type": "code",
   "execution_count": 27,
   "metadata": {},
   "outputs": [
    {
     "data": {
      "text/plain": [
       "fname                     nneka\n",
       "lname                      wick\n",
       "division         administration\n",
       "salary                    18904\n",
       "phone_number            7366989\n",
       "contract_type         permanent\n",
       "dtype: object"
      ]
     },
     "execution_count": 27,
     "metadata": {},
     "output_type": "execute_result"
    }
   ],
   "source": [
    "highest_administration = all_divisions.get_group('administration').max()\n",
    "highest_administration"
   ]
  },
  {
   "cell_type": "code",
   "execution_count": 28,
   "metadata": {},
   "outputs": [
    {
     "name": "stdout",
     "output_type": "stream",
     "text": [
      "We can see that, the lowest in Administration Division (an Intern) is,  Conrad Elizabeth. she earns 12480\n",
      "We can see that, the highest in Sales Division is, Nneka Wick. she earns 18904\n"
     ]
    }
   ],
   "source": [
    "print('We can see that, the lowest in Administration Division (an Intern) is,  Conrad Elizabeth. she earns ' \\\n",
    "      + str(lowest_administration[3]))\n",
    "print('We can see that, the highest in Sales Division is, Nneka Wick. she earns ' + str(highest_administration[3]))"
   ]
  },
  {
   "cell_type": "code",
   "execution_count": null,
   "metadata": {},
   "outputs": [],
   "source": []
  },
  {
   "cell_type": "markdown",
   "metadata": {},
   "source": [
    "### e.) Lowest and Highest in Engineering"
   ]
  },
  {
   "cell_type": "code",
   "execution_count": 29,
   "metadata": {},
   "outputs": [
    {
     "data": {
      "text/plain": [
       "fname                 chisom\n",
       "lname                  benny\n",
       "division         engineering\n",
       "salary                 45632\n",
       "phone_number         7366099\n",
       "contract_type      permanent\n",
       "dtype: object"
      ]
     },
     "execution_count": 29,
     "metadata": {},
     "output_type": "execute_result"
    }
   ],
   "source": [
    "lowest_engineering = all_divisions.get_group('engineering').min()\n",
    "lowest_engineering"
   ]
  },
  {
   "cell_type": "code",
   "execution_count": 30,
   "metadata": {},
   "outputs": [
    {
     "data": {
      "text/plain": [
       "fname                   kiki\n",
       "lname                 omeili\n",
       "division         engineering\n",
       "salary                 87000\n",
       "phone_number         7366217\n",
       "contract_type      temporary\n",
       "dtype: object"
      ]
     },
     "execution_count": 30,
     "metadata": {},
     "output_type": "execute_result"
    }
   ],
   "source": [
    "highest_engineering = all_divisions.get_group('engineering').max()\n",
    "highest_engineering"
   ]
  },
  {
   "cell_type": "code",
   "execution_count": 31,
   "metadata": {},
   "outputs": [
    {
     "name": "stdout",
     "output_type": "stream",
     "text": [
      "We can see that, the lowest in Engineerig Division is, Chisom Benny. He earns 45632\n",
      "We can see that, the highest in Engineering Division is, Kiki Omeili. She earns 87000\n"
     ]
    }
   ],
   "source": [
    "print('We can see that, the lowest in Engineerig Division is, Chisom Benny. He earns ' + str(lowest_engineering[3]))\n",
    "print('We can see that, the highest in Engineering Division is, Kiki Omeili. She earns ' + str(highest_engineering[3]))"
   ]
  },
  {
   "cell_type": "code",
   "execution_count": null,
   "metadata": {},
   "outputs": [],
   "source": []
  }
 ],
 "metadata": {
  "kernelspec": {
   "display_name": "Python 3",
   "language": "python",
   "name": "python3"
  },
  "language_info": {
   "codemirror_mode": {
    "name": "ipython",
    "version": 3
   },
   "file_extension": ".py",
   "mimetype": "text/x-python",
   "name": "python",
   "nbconvert_exporter": "python",
   "pygments_lexer": "ipython3",
   "version": "3.7.4"
  }
 },
 "nbformat": 4,
 "nbformat_minor": 2
}
